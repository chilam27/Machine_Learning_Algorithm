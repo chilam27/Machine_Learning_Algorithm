{
 "cells": [
  {
   "cell_type": "markdown",
   "metadata": {},
   "source": [
    "# K-nearest Neighbors From Scratch\n",
    "\n",
    "In this notebook, we will code the k-nearest neighbors model (regressor and classifier) from scratch to understand the theory behind this commonly used machine learning model.\n",
    "\n",
    "In the end, we will compare the result of the k-nearest neighbors models we build from scratch with ones from scikit-learn.\n",
    "\n",
    "YT: https://youtu.be/P-mM9396Dn8"
   ]
  },
  {
   "cell_type": "markdown",
   "metadata": {},
   "source": [
    "## Implementation"
   ]
  },
  {
   "cell_type": "markdown",
   "metadata": {},
   "source": [
    "For the first main function, the k-nearest neighbors regressor, we perform the steps as follows:\n",
    "- Concatenate \"X_train\" and \"X_test\" pandas data frames.\n",
    "- Transform \"X\" and \"y\" data frames into numpy arrays.\n",
    "- Initiate \"predict_output\" list to store our final outputs.\n",
    "- Use the `euclidean_distance` function to calculate the distance from the new data point (\"point\") to all of the training data points (\"train_point\").\n",
    "- Sort the distance in ascending order.\n",
    "- Select the top distance based on the number of neighbors (\"k\").\n",
    "- For the regressor model, we get the label (prediction) by taking the mean of the labels from all k neighbors.\n",
    "- For the comparison goal, this function only outputs the prediction for the test dataset (\"X_test\")."
   ]
  },
  {
   "cell_type": "code",
   "execution_count": 55,
   "metadata": {},
   "outputs": [],
   "source": [
    "# main function: knn regressor\n",
    "def knn_reg(X_train, y_train, X_test, k):\n",
    "    X = pd.concat([X_train, X_test])\n",
    "    X = X.to_numpy()\n",
    "    y = y_train.to_numpy()\n",
    "    \n",
    "    predict_output = []\n",
    "    \n",
    "    for point in X:\n",
    "        distance_label = [\n",
    "            (euclidean_distance(point, train_point), train_label)\n",
    "            for train_point, train_label in zip(X, y)\n",
    "            ]\n",
    "        neighbors = sorted(distance_label)[:k]\n",
    "        predict_output.append(sum(label for _, label in neighbors) / k)\n",
    "    return predict_output[-len(X_test):]"
   ]
  },
  {
   "cell_type": "markdown",
   "metadata": {},
   "source": [
    "For our second main function, the k-nearest neighbors classifier, we perform the steps as follows:\n",
    "- Concatenate \"X_train\" and \"X_test\" pandas data frames.\n",
    "- Transform \"X\" and \"y\" data frames into numpy arrays.\n",
    "- Initiate \"predict_output\" list to store our final outputs.\n",
    "- Use the `euclidean_distance` function to calculate the distance from the new data point (\"point\") to all of the training data points (\"train_point\").\n",
    "- Sort the distance in ascending order.\n",
    "- Select the top distance based on the number of neighbors (\"k\").\n",
    "- For the classifier model, we get the label (prediction) by picking the label with the highest count from all k neighbors.\n",
    "- For the comparison goal, this function only outputs the prediction for the test dataset (\"X_test\")."
   ]
  },
  {
   "cell_type": "code",
   "execution_count": 56,
   "metadata": {},
   "outputs": [],
   "source": [
    "# main function: knn classifier\n",
    "def knn_class(X_train, y_train, X_test, k):\n",
    "    X = pd.concat([X_train, X_test])\n",
    "    X = X.to_numpy()\n",
    "    y = y_train.to_numpy()\n",
    "    \n",
    "    predict_output = []\n",
    "    \n",
    "    for point in X:\n",
    "        distance_label = [\n",
    "            (euclidean_distance(point, train_point), train_label)\n",
    "            for train_point, train_label in zip(X, y)\n",
    "            ]\n",
    "        neighbors = sorted(distance_label)[:k]\n",
    "        neighbor_labels = [label for _, label in neighbors]\n",
    "        predict_output.append(max(set(neighbor_labels), key = neighbor_labels.count))\n",
    "    return predict_output[-len(X_test):]"
   ]
  },
  {
   "cell_type": "markdown",
   "metadata": {},
   "source": [
    "In the function `euclidean_distance`, we calculate the euclidean distance of two data points based on the number of feature (\"n\")."
   ]
  },
  {
   "cell_type": "code",
   "execution_count": 48,
   "metadata": {},
   "outputs": [],
   "source": [
    "# helper function: euclidean distance\n",
    "def euclidean_distance(p1, p2):\n",
    "    a = 0\n",
    "    for n in range(len(p1)):\n",
    "        a += (p1[n] - p2[n]) ** 2\n",
    "    return (a) ** 0.5"
   ]
  },
  {
   "cell_type": "markdown",
   "metadata": {},
   "source": [
    "## Model Comparison\n",
    "\n",
    "For this section, we will be using two datasets (house price dataset for regression and Iris dataset for classification) to perform the comparison between our k-nearest neighbors models and the scikit-learn `KNeighborsRegressor` and `KNeighborsClassifier` models. The simple metric we will use for our comparison will be the outputted prediction from the models."
   ]
  },
  {
   "cell_type": "markdown",
   "metadata": {},
   "source": [
    "### Library & Data Preparation"
   ]
  },
  {
   "cell_type": "code",
   "execution_count": 1,
   "metadata": {},
   "outputs": [],
   "source": [
    "# load library\n",
    "import pandas as pd\n",
    "from sklearn.neighbors import KNeighborsRegressor\n",
    "from sklearn.neighbors import KNeighborsClassifier"
   ]
  },
  {
   "cell_type": "code",
   "execution_count": 2,
   "metadata": {},
   "outputs": [
    {
     "data": {
      "text/html": [
       "<div>\n",
       "<style scoped>\n",
       "    .dataframe tbody tr th:only-of-type {\n",
       "        vertical-align: middle;\n",
       "    }\n",
       "\n",
       "    .dataframe tbody tr th {\n",
       "        vertical-align: top;\n",
       "    }\n",
       "\n",
       "    .dataframe thead th {\n",
       "        text-align: right;\n",
       "    }\n",
       "</style>\n",
       "<table border=\"1\" class=\"dataframe\">\n",
       "  <thead>\n",
       "    <tr style=\"text-align: right;\">\n",
       "      <th></th>\n",
       "      <th>HouseSize</th>\n",
       "      <th>Rooms</th>\n",
       "      <th>Price</th>\n",
       "    </tr>\n",
       "  </thead>\n",
       "  <tbody>\n",
       "    <tr>\n",
       "      <th>0</th>\n",
       "      <td>2104</td>\n",
       "      <td>3</td>\n",
       "      <td>399900</td>\n",
       "    </tr>\n",
       "    <tr>\n",
       "      <th>1</th>\n",
       "      <td>1600</td>\n",
       "      <td>3</td>\n",
       "      <td>329900</td>\n",
       "    </tr>\n",
       "    <tr>\n",
       "      <th>2</th>\n",
       "      <td>2400</td>\n",
       "      <td>3</td>\n",
       "      <td>369000</td>\n",
       "    </tr>\n",
       "    <tr>\n",
       "      <th>3</th>\n",
       "      <td>1416</td>\n",
       "      <td>2</td>\n",
       "      <td>232000</td>\n",
       "    </tr>\n",
       "    <tr>\n",
       "      <th>4</th>\n",
       "      <td>3000</td>\n",
       "      <td>4</td>\n",
       "      <td>539900</td>\n",
       "    </tr>\n",
       "  </tbody>\n",
       "</table>\n",
       "</div>"
      ],
      "text/plain": [
       "   HouseSize  Rooms   Price\n",
       "0       2104      3  399900\n",
       "1       1600      3  329900\n",
       "2       2400      3  369000\n",
       "3       1416      2  232000\n",
       "4       3000      4  539900"
      ]
     },
     "execution_count": 2,
     "metadata": {},
     "output_type": "execute_result"
    }
   ],
   "source": [
    "# load regression dataset\n",
    "df_reg = pd.read_csv('data/House_Price_Dataset.csv')\n",
    "df_reg.head()"
   ]
  },
  {
   "cell_type": "code",
   "execution_count": 44,
   "metadata": {},
   "outputs": [
    {
     "data": {
      "text/html": [
       "<div>\n",
       "<style scoped>\n",
       "    .dataframe tbody tr th:only-of-type {\n",
       "        vertical-align: middle;\n",
       "    }\n",
       "\n",
       "    .dataframe tbody tr th {\n",
       "        vertical-align: top;\n",
       "    }\n",
       "\n",
       "    .dataframe thead th {\n",
       "        text-align: right;\n",
       "    }\n",
       "</style>\n",
       "<table border=\"1\" class=\"dataframe\">\n",
       "  <thead>\n",
       "    <tr style=\"text-align: right;\">\n",
       "      <th></th>\n",
       "      <th>SepalLengthCm</th>\n",
       "      <th>SepalWidthCm</th>\n",
       "      <th>PetalLengthCm</th>\n",
       "      <th>PetalWidthCm</th>\n",
       "      <th>Species</th>\n",
       "    </tr>\n",
       "  </thead>\n",
       "  <tbody>\n",
       "    <tr>\n",
       "      <th>0</th>\n",
       "      <td>5.1</td>\n",
       "      <td>3.5</td>\n",
       "      <td>1.4</td>\n",
       "      <td>0.2</td>\n",
       "      <td>Iris-setosa</td>\n",
       "    </tr>\n",
       "    <tr>\n",
       "      <th>1</th>\n",
       "      <td>4.9</td>\n",
       "      <td>3.0</td>\n",
       "      <td>1.4</td>\n",
       "      <td>0.2</td>\n",
       "      <td>Iris-setosa</td>\n",
       "    </tr>\n",
       "    <tr>\n",
       "      <th>2</th>\n",
       "      <td>4.7</td>\n",
       "      <td>3.2</td>\n",
       "      <td>1.3</td>\n",
       "      <td>0.2</td>\n",
       "      <td>Iris-setosa</td>\n",
       "    </tr>\n",
       "    <tr>\n",
       "      <th>3</th>\n",
       "      <td>4.6</td>\n",
       "      <td>3.1</td>\n",
       "      <td>1.5</td>\n",
       "      <td>0.2</td>\n",
       "      <td>Iris-setosa</td>\n",
       "    </tr>\n",
       "    <tr>\n",
       "      <th>4</th>\n",
       "      <td>5.0</td>\n",
       "      <td>3.6</td>\n",
       "      <td>1.4</td>\n",
       "      <td>0.2</td>\n",
       "      <td>Iris-setosa</td>\n",
       "    </tr>\n",
       "  </tbody>\n",
       "</table>\n",
       "</div>"
      ],
      "text/plain": [
       "   SepalLengthCm  SepalWidthCm  PetalLengthCm  PetalWidthCm      Species\n",
       "0            5.1           3.5            1.4           0.2  Iris-setosa\n",
       "1            4.9           3.0            1.4           0.2  Iris-setosa\n",
       "2            4.7           3.2            1.3           0.2  Iris-setosa\n",
       "3            4.6           3.1            1.5           0.2  Iris-setosa\n",
       "4            5.0           3.6            1.4           0.2  Iris-setosa"
      ]
     },
     "execution_count": 44,
     "metadata": {},
     "output_type": "execute_result"
    }
   ],
   "source": [
    "# load classification dataset\n",
    "df_class = pd.read_csv('data/Iris_Dataset.csv')\n",
    "df_class.head()"
   ]
  },
  {
   "cell_type": "markdown",
   "metadata": {},
   "source": [
    "### Data Transformation"
   ]
  },
  {
   "cell_type": "code",
   "execution_count": 3,
   "metadata": {},
   "outputs": [],
   "source": [
    "# separate independent and dependent variables for regression dataset\n",
    "X_train_reg = df_reg[[\"HouseSize\", \"Rooms\"]][:-1] # independent variables\n",
    "y_train_reg = df_reg[\"Price\"][:-1] # dependent variable\n",
    "\n",
    "# separate train and test dataset for regression dataset\n",
    "X_test_reg = df_reg[[\"HouseSize\", \"Rooms\"]][-1:]"
   ]
  },
  {
   "cell_type": "code",
   "execution_count": 50,
   "metadata": {},
   "outputs": [],
   "source": [
    "# separate independent and dependent variables for classification dataset\n",
    "X_train_class = df_class[[\"SepalLengthCm\", \"SepalWidthCm\", \"PetalLengthCm\", \"PetalWidthCm\"]][:-1] # independent variables\n",
    "y_train_class = df_class[\"Species\"][:-1] # dependent variable\n",
    "\n",
    "# separate train and test dataset for classification dataset\n",
    "X_test_class = df_class[[\"SepalLengthCm\", \"SepalWidthCm\", \"PetalLengthCm\", \"PetalWidthCm\"]][-1:]"
   ]
  },
  {
   "cell_type": "markdown",
   "metadata": {},
   "source": [
    "### Regression Models Building"
   ]
  },
  {
   "cell_type": "code",
   "execution_count": 59,
   "metadata": {},
   "outputs": [
    {
     "name": "stdout",
     "output_type": "stream",
     "text": [
      "KNeighborsRegressor prediction:  [247720.]\n"
     ]
    }
   ],
   "source": [
    "reg_model_sklearn = KNeighborsRegressor(n_neighbors = 5).fit(X_train_reg, y_train_reg)\n",
    "print(\"KNeighborsRegressor prediction: \", reg_model_sklearn.predict(X_test_reg))"
   ]
  },
  {
   "cell_type": "code",
   "execution_count": 60,
   "metadata": {},
   "outputs": [
    {
     "name": "stdout",
     "output_type": "stream",
     "text": [
      "knn_reg prediction:  [247720.0]\n"
     ]
    }
   ],
   "source": [
    "print(\"knn_reg prediction: \", knn_reg(X_train_reg, y_train_reg, X_test_reg, k = 5))"
   ]
  },
  {
   "cell_type": "markdown",
   "metadata": {},
   "source": [
    "### Classification Models Building"
   ]
  },
  {
   "cell_type": "code",
   "execution_count": 61,
   "metadata": {},
   "outputs": [
    {
     "name": "stdout",
     "output_type": "stream",
     "text": [
      "KNeighborsClassifier prediction:  ['Iris-virginica']\n"
     ]
    }
   ],
   "source": [
    "class_model_sklearn = KNeighborsClassifier(n_neighbors = 5).fit(X_train_class, y_train_class)\n",
    "print(\"KNeighborsClassifier prediction: \", class_model_sklearn.predict(X_test_class))"
   ]
  },
  {
   "cell_type": "code",
   "execution_count": 62,
   "metadata": {},
   "outputs": [
    {
     "name": "stdout",
     "output_type": "stream",
     "text": [
      "knn_class prediction:  ['Iris-virginica']\n"
     ]
    }
   ],
   "source": [
    "knn_class(X_train_class, y_train_class, X_test_class, k = 5)\n",
    "print(\"knn_class prediction: \", knn_class(X_train_class, y_train_class, X_test_class, k = 5))"
   ]
  },
  {
   "cell_type": "markdown",
   "metadata": {},
   "source": [
    "As we can see from the results above, the predictions are the same for both of the regression models and they are also the same for the classification models. Hence, we have successfully built k-nearest neighbors regressor and classification from scratch!"
   ]
  }
 ],
 "metadata": {
  "kernelspec": {
   "display_name": "mlalgorithm",
   "language": "python",
   "name": "python3"
  },
  "language_info": {
   "codemirror_mode": {
    "name": "ipython",
    "version": 3
   },
   "file_extension": ".py",
   "mimetype": "text/x-python",
   "name": "python",
   "nbconvert_exporter": "python",
   "pygments_lexer": "ipython3",
   "version": "3.11.4"
  },
  "orig_nbformat": 4
 },
 "nbformat": 4,
 "nbformat_minor": 2
}
