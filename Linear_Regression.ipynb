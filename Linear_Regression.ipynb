{
 "cells": [
  {
   "cell_type": "markdown",
   "metadata": {},
   "source": [
    "# Linear Regression\n",
    "\n",
    "In this notebook, we will code the Linear Regression model from scratch to understand the theory behind this commonly used machine learning model.\n",
    "\n",
    "YT: https://youtu.be/RIg3iuen7MY"
   ]
  },
  {
   "cell_type": "markdown",
   "metadata": {},
   "source": [
    "## Implementation\n",
    "\n",
    "Input data (\"y\" table) has \"m\" data points, \"n\" columns (features or independent variables), and \"n\" + 1 total of betas"
   ]
  },
  {
   "cell_type": "code",
   "execution_count": 1,
   "metadata": {},
   "outputs": [],
   "source": [
    "# load library\n",
    "import random"
   ]
  },
  {
   "cell_type": "markdown",
   "metadata": {},
   "source": [
    "For the main function, we perform the steps as follows:\n",
    "- First, we initialize the parameters with `initialize_params` based on the dimension of the input data (\"n\")\n",
    "- We then compute the gradient of the betas using `compute_graident`\n",
    "- Use the computed gradients to update the value of each beta using `update_params`\n",
    "- We repeat the process multiple times"
   ]
  },
  {
   "cell_type": "code",
   "execution_count": 104,
   "metadata": {},
   "outputs": [],
   "source": [
    "# main function\n",
    "def linear_regression(X, y, iterations = 100, learning_rate = 0.01):\n",
    "    X = X.to_numpy()\n",
    "    y = y.to_numpy()\n",
    "\n",
    "    n, m = len(X[0]), len(X)\n",
    "    beta_0, beta_other = initialize_params(n)\n",
    "    \n",
    "    for _ in range(iterations):\n",
    "        gradient_beta_0, gradient_beta_other = compute_gradient(X, y, beta_0, beta_other, n, m)\n",
    "        beta_0, beta_other = update_params(beta_0, beta_other, gradient_beta_0, gradient_beta_other, learning_rate)\n",
    "    return beta_0, beta_other"
   ]
  },
  {
   "cell_type": "markdown",
   "metadata": {},
   "source": [
    "For the `initialize_params` function, we initialize \"beta_0\" as 0 and \"beta_other\" is a vector with the size of \"n\" that holds all the other randomly initialized betas."
   ]
  },
  {
   "cell_type": "code",
   "execution_count": 3,
   "metadata": {},
   "outputs": [],
   "source": [
    "# helper function: initialize params\n",
    "def initialize_params(n):\n",
    "    beta_0 = 0\n",
    "    beta_other = [random.random() for _ in range(n)]\n",
    "    return beta_0, beta_other"
   ]
  },
  {
   "cell_type": "markdown",
   "metadata": {},
   "source": [
    "`compute_gradient` is the core of the algorithm where we compute gradients for all betas.\n",
    "- Initialized all gradient betas as 0\n",
    "- We loop through all data points and add gradient contributed by each data point to those variables:\n",
    "    - First, we obtain the prediction \"y_i_hat\" for each data point \"i\"\n",
    "    - Get the difference between the prediction (\"y_i_hat\") and the observation (\"y[i]\")\n",
    "    - Use the difference to obtain the derivative of the error over \"y\" by multiplying the difference with 2\n",
    "    - Get gradient of betas by diving each data point's gradient by \"n\" so the gradient computed at the end will be the average over all data points"
   ]
  },
  {
   "cell_type": "code",
   "execution_count": 92,
   "metadata": {},
   "outputs": [],
   "source": [
    "# helper function: compute gradient\n",
    "def compute_gradient(X, y, beta_0, beta_other, n, m):\n",
    "    gradient_beta_0 = 0\n",
    "    gradient_beta_other = [0] * n\n",
    "    \n",
    "    for i in range(m):\n",
    "        y_i_hat = sum(X[i][j] * beta_other[j] for j in range(n)) + beta_0\n",
    "        derror_dy = 2 * (y[i] - y_i_hat)\n",
    "        \n",
    "        for j in range(n):\n",
    "            gradient_beta_other[j] += (derror_dy * X[i][j]) / m\n",
    "        \n",
    "        gradient_beta_0 += (derror_dy / m)\n",
    "    \n",
    "    return gradient_beta_0, gradient_beta_other"
   ]
  },
  {
   "cell_type": "markdown",
   "metadata": {},
   "source": [
    "We use `update_params` to update all the betas using the gradient we obtained. We don't add gradients to betas, but we scale the gradient by multiplying it with the learning rate (a rate of speed where the gradient moves during a gradient descent; a learning rate too high will make gradient descent unstable, too low will make it slow to converge)\n",
    "\n",
    "Note: We update betas using \"+=\" because of how gradients are computed in `compute_gradient`. We get the gradient of error with respect to \"y\" as \"y[i]\" - \"y_i_hat\". If \"y_i_hat\" is overestimated, \"derror_dy\" will be a negative value. That's why we add the gradient to betas."
   ]
  },
  {
   "cell_type": "code",
   "execution_count": 5,
   "metadata": {},
   "outputs": [],
   "source": [
    "# helper function: update params\n",
    "def update_params(beta_0, beta_other, gradient_beta_0, gradient_beta_other, learning_rate):\n",
    "    beta_0 += (gradient_beta_0 * learning_rate)\n",
    "    \n",
    "    for i in range(len(beta_other)):\n",
    "        beta_other[i] += (gradient_beta_other[i] * learning_rate)\n",
    "    return beta_0, beta_other"
   ]
  },
  {
   "cell_type": "markdown",
   "metadata": {},
   "source": [
    "## Test"
   ]
  },
  {
   "cell_type": "markdown",
   "metadata": {},
   "source": [
    "### Library & Data Preparation"
   ]
  },
  {
   "cell_type": "code",
   "execution_count": 18,
   "metadata": {},
   "outputs": [],
   "source": [
    "# load library\n",
    "import pandas as pd\n",
    "from sklearn.linear_model import LinearRegression"
   ]
  },
  {
   "cell_type": "code",
   "execution_count": 142,
   "metadata": {},
   "outputs": [
    {
     "data": {
      "text/html": [
       "<div>\n",
       "<style scoped>\n",
       "    .dataframe tbody tr th:only-of-type {\n",
       "        vertical-align: middle;\n",
       "    }\n",
       "\n",
       "    .dataframe tbody tr th {\n",
       "        vertical-align: top;\n",
       "    }\n",
       "\n",
       "    .dataframe thead th {\n",
       "        text-align: right;\n",
       "    }\n",
       "</style>\n",
       "<table border=\"1\" class=\"dataframe\">\n",
       "  <thead>\n",
       "    <tr style=\"text-align: right;\">\n",
       "      <th></th>\n",
       "      <th>housesize</th>\n",
       "      <th>rooms</th>\n",
       "      <th>price</th>\n",
       "    </tr>\n",
       "  </thead>\n",
       "  <tbody>\n",
       "    <tr>\n",
       "      <th>0</th>\n",
       "      <td>2104</td>\n",
       "      <td>3</td>\n",
       "      <td>399900</td>\n",
       "    </tr>\n",
       "    <tr>\n",
       "      <th>1</th>\n",
       "      <td>1600</td>\n",
       "      <td>3</td>\n",
       "      <td>329900</td>\n",
       "    </tr>\n",
       "    <tr>\n",
       "      <th>2</th>\n",
       "      <td>2400</td>\n",
       "      <td>3</td>\n",
       "      <td>369000</td>\n",
       "    </tr>\n",
       "    <tr>\n",
       "      <th>3</th>\n",
       "      <td>1416</td>\n",
       "      <td>2</td>\n",
       "      <td>232000</td>\n",
       "    </tr>\n",
       "    <tr>\n",
       "      <th>4</th>\n",
       "      <td>3000</td>\n",
       "      <td>4</td>\n",
       "      <td>539900</td>\n",
       "    </tr>\n",
       "  </tbody>\n",
       "</table>\n",
       "</div>"
      ],
      "text/plain": [
       "   housesize  rooms   price\n",
       "0       2104      3  399900\n",
       "1       1600      3  329900\n",
       "2       2400      3  369000\n",
       "3       1416      2  232000\n",
       "4       3000      4  539900"
      ]
     },
     "execution_count": 142,
     "metadata": {},
     "output_type": "execute_result"
    }
   ],
   "source": [
    "# load data\n",
    "df = pd.read_csv('house_price_data.txt', names = [\"housesize\", \"rooms\", \"price\"])\n",
    "df.head()"
   ]
  },
  {
   "cell_type": "code",
   "execution_count": 141,
   "metadata": {},
   "outputs": [
    {
     "data": {
      "text/html": [
       "<div>\n",
       "<style scoped>\n",
       "    .dataframe tbody tr th:only-of-type {\n",
       "        vertical-align: middle;\n",
       "    }\n",
       "\n",
       "    .dataframe tbody tr th {\n",
       "        vertical-align: top;\n",
       "    }\n",
       "\n",
       "    .dataframe thead th {\n",
       "        text-align: right;\n",
       "    }\n",
       "</style>\n",
       "<table border=\"1\" class=\"dataframe\">\n",
       "  <thead>\n",
       "    <tr style=\"text-align: right;\">\n",
       "      <th></th>\n",
       "      <th>housesize</th>\n",
       "      <th>rooms</th>\n",
       "      <th>price</th>\n",
       "    </tr>\n",
       "  </thead>\n",
       "  <tbody>\n",
       "    <tr>\n",
       "      <th>0</th>\n",
       "      <td>0.345284</td>\n",
       "      <td>0.50</td>\n",
       "      <td>0.433962</td>\n",
       "    </tr>\n",
       "    <tr>\n",
       "      <th>1</th>\n",
       "      <td>0.206288</td>\n",
       "      <td>0.50</td>\n",
       "      <td>0.301887</td>\n",
       "    </tr>\n",
       "    <tr>\n",
       "      <th>2</th>\n",
       "      <td>0.426917</td>\n",
       "      <td>0.50</td>\n",
       "      <td>0.375660</td>\n",
       "    </tr>\n",
       "    <tr>\n",
       "      <th>3</th>\n",
       "      <td>0.155543</td>\n",
       "      <td>0.25</td>\n",
       "      <td>0.117170</td>\n",
       "    </tr>\n",
       "    <tr>\n",
       "      <th>4</th>\n",
       "      <td>0.592388</td>\n",
       "      <td>0.75</td>\n",
       "      <td>0.698113</td>\n",
       "    </tr>\n",
       "  </tbody>\n",
       "</table>\n",
       "</div>"
      ],
      "text/plain": [
       "   housesize  rooms     price\n",
       "0   0.345284   0.50  0.433962\n",
       "1   0.206288   0.50  0.301887\n",
       "2   0.426917   0.50  0.375660\n",
       "3   0.155543   0.25  0.117170\n",
       "4   0.592388   0.75  0.698113"
      ]
     },
     "execution_count": 141,
     "metadata": {},
     "output_type": "execute_result"
    }
   ],
   "source": [
    "# normalize data\n",
    "df_normalized = (df - df.min()) / (df.max() - df.min()) # min-max normalization\n",
    "df_normalized.head()"
   ]
  },
  {
   "cell_type": "code",
   "execution_count": 99,
   "metadata": {},
   "outputs": [],
   "source": [
    "X = df_normalized[[\"housesize\", \"rooms\"]] # independent variables\n",
    "y = df_normalized[\"price\"] # dependent variable"
   ]
  },
  {
   "cell_type": "markdown",
   "metadata": {},
   "source": [
    "### Models Comparison"
   ]
  },
  {
   "cell_type": "code",
   "execution_count": 100,
   "metadata": {},
   "outputs": [
    {
     "name": "stdout",
     "output_type": "stream",
     "text": [
      "Intercept | Constant of Linear Regression Equation:  0.05578751828959755\n",
      "Coefficient of Linear Regression Equation:  [ 0.95241114 -0.06594731]\n"
     ]
    }
   ],
   "source": [
    "# sklearn linear regression model\n",
    "model_sklearn  = LinearRegression().fit(X, y)\n",
    "\n",
    "print(\"Intercept | Constant of Linear Regression Equation: \", model_sklearn.intercept_)\n",
    "print(\"Coefficient of Linear Regression Equation: \", model_sklearn.coef_)"
   ]
  },
  {
   "cell_type": "code",
   "execution_count": 140,
   "metadata": {},
   "outputs": [
    {
     "name": "stdout",
     "output_type": "stream",
     "text": [
      "Intercept | Constant of Linear Regression Equation:  0.05019895636877814\n",
      "Coefficient of Linear Regression Equation:  [0.9405309080534231, -0.04888038153049782]\n"
     ]
    }
   ],
   "source": [
    "# scratch model\n",
    "model_scratch = linear_regression(X, y, iterations = 1000, learning_rate = 0.1)\n",
    "\n",
    "print(\"Intercept | Constant of Linear Regression Equation: \", model_scratch[0])\n",
    "print(\"Coefficient of Linear Regression Equation: \", model_scratch[1])"
   ]
  }
 ],
 "metadata": {
  "kernelspec": {
   "display_name": "Python 3",
   "language": "python",
   "name": "python3"
  },
  "language_info": {
   "codemirror_mode": {
    "name": "ipython",
    "version": 3
   },
   "file_extension": ".py",
   "mimetype": "text/x-python",
   "name": "python",
   "nbconvert_exporter": "python",
   "pygments_lexer": "ipython3",
   "version": "3.11.4"
  },
  "orig_nbformat": 4
 },
 "nbformat": 4,
 "nbformat_minor": 2
}
